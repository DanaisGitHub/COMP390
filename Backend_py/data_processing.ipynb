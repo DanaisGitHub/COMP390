{
 "cells": [
  {
   "cell_type": "markdown",
   "id": "00c52b9d",
   "metadata": {},
   "source": [
    "# Purpose :\n",
    "1. Partially clean the data for the books dataset (However the data is also cleaned in Node conversion and securtiy reasons) \n",
    "2. Add any nessary datapoints to the books dataset\n",
    "3. Create Training Data from MySQL database\n"
   ]
  },
  {
   "cell_type": "code",
   "execution_count": 7,
   "id": "34776dca-4c96-4082-a742-faad74613618",
   "metadata": {},
   "outputs": [],
   "source": [
    "# The purpose of this script is to partially clean the data for the books dataset (However the data is also cleaned in Node conversion and securtiy reasons) )\n",
    "\n",
    "\n",
    "import pandas as pd\n",
    "import numpy as np\n",
    "bookSourcePath ='Datasource/Original_Books.csv' \n",
    "df = pd.read_csv(bookSourcePath, index_col=0)\n",
    "nonNullCols = ['book','author','description', 'numPages','format','genres','publication','rating']\n",
    "nonSpecialChars = ['book']\n",
    "\n"
   ]
  },
  {
   "cell_type": "code",
   "execution_count": 8,
   "id": "ea398e3d-3304-40fd-bdde-2a849b9b25a7",
   "metadata": {},
   "outputs": [],
   "source": [
    "# Clean strings to remove special Characters\n",
    "for col in nonSpecialChars:\n",
    "    df[col] = df[col].str.replace(r'\\W',\"\") ## Don't think it's working still \n"
   ]
  },
  {
   "cell_type": "code",
   "execution_count": 9,
   "id": "34dfc1af-4ab5-42e8-a6dd-b326aeed2a14",
   "metadata": {},
   "outputs": [],
   "source": [
    "# Cleaning All Null/empty values (That are nessarry to have)\n",
    "for col in nonNullCols:\n",
    "    df.dropna(subset = col, inplace=True)\n"
   ]
  },
  {
   "cell_type": "code",
   "execution_count": 10,
   "id": "dc90e936-b785-4db3-8493-4250529600c3",
   "metadata": {},
   "outputs": [],
   "source": [
    "# cleaning All rating that are NaN\n",
    "df=df[df['rating'] != 'real'] "
   ]
  },
  {
   "cell_type": "code",
   "execution_count": 11,
   "id": "df4240c4-fdfd-4fae-af51-d51c9c904cb6",
   "metadata": {},
   "outputs": [
    {
     "name": "stdout",
     "output_type": "stream",
     "text": [
      "29\n"
     ]
    }
   ],
   "source": [
    "\n",
    "df = df[1:30]\n",
    "print(len(df))"
   ]
  },
  {
   "cell_type": "code",
   "execution_count": null,
   "id": "bb5d3e10",
   "metadata": {},
   "outputs": [],
   "source": []
  },
  {
   "cell_type": "code",
   "execution_count": 12,
   "id": "5484e0a6-68d8-412a-8352-26fb6092fbfd",
   "metadata": {},
   "outputs": [
    {
     "ename": "",
     "evalue": "",
     "output_type": "error",
     "traceback": [
      "\u001b[1;31mThe Kernel crashed while executing code in the current cell or a previous cell. \n",
      "\u001b[1;31mPlease review the code in the cell(s) to identify a possible cause of the failure. \n",
      "\u001b[1;31mClick <a href='https://aka.ms/vscodeJupyterKernelCrash'>here</a> for more info. \n",
      "\u001b[1;31mView Jupyter <a href='command:jupyter.viewOutput'>log</a> for further details."
     ]
    }
   ],
   "source": [
    "df.to_csv(\"Datasource/first10s.csv\")"
   ]
  }
 ],
 "metadata": {
  "kernelspec": {
   "display_name": "Python 3 (ipykernel)",
   "language": "python",
   "name": "python3"
  },
  "language_info": {
   "codemirror_mode": {
    "name": "ipython",
    "version": 3
   },
   "file_extension": ".py",
   "mimetype": "text/x-python",
   "name": "python",
   "nbconvert_exporter": "python",
   "pygments_lexer": "ipython3",
   "version": "undefined.undefined.undefined"
  }
 },
 "nbformat": 4,
 "nbformat_minor": 5
}
