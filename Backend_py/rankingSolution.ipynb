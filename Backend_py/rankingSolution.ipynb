{
 "cells": [
  {
   "cell_type": "markdown",
   "id": "f7a20c3f",
   "metadata": {},
   "source": [
    "# Purpose\n",
    "1. Hold ListWise Ranking Algorthim\n",
    "2. Train Algorthim\n",
    "3. Release trained Algorthim as a file"
   ]
  },
  {
   "cell_type": "code",
   "execution_count": 1,
   "id": "7115d1b1",
   "metadata": {},
   "outputs": [
    {
     "name": "stdout",
     "output_type": "stream",
     "text": [
      "WARNING:tensorflow:From c:\\Python311\\Lib\\site-packages\\keras\\src\\losses.py:2976: The name tf.losses.sparse_softmax_cross_entropy is deprecated. Please use tf.compat.v1.losses.sparse_softmax_cross_entropy instead.\n",
      "\n"
     ]
    },
    {
     "name": "stderr",
     "output_type": "stream",
     "text": [
      "c:\\Python311\\Lib\\site-packages\\tqdm\\auto.py:21: TqdmWarning: IProgress not found. Please update jupyter and ipywidgets. See https://ipywidgets.readthedocs.io/en/stable/user_install.html\n",
      "  from .autonotebook import tqdm as notebook_tqdm\n"
     ]
    },
    {
     "name": "stdout",
     "output_type": "stream",
     "text": [
      "WARNING:tensorflow:From c:\\Python311\\Lib\\site-packages\\tensorflow_estimator\\python\\estimator\\util.py:74: The name tf.train.SessionRunHook is deprecated. Please use tf.estimator.SessionRunHook instead.\n",
      "\n"
     ]
    }
   ],
   "source": [
    "import pprint\n",
    "import numpy as np\n",
    "import tensorflow as tf\n",
    "import tensorflow_datasets as tfds\n",
    "import tensorflow_ranking as tfr\n",
    "import tensorflow_recommenders as tfrs"
   ]
  },
  {
   "cell_type": "markdown",
   "id": "42b41dec",
   "metadata": {},
   "source": [
    "# Phase 1:\n",
    "#### Get train and test data"
   ]
  },
  {
   "cell_type": "code",
   "execution_count": null,
   "id": "9279b996",
   "metadata": {},
   "outputs": [],
   "source": []
  },
  {
   "cell_type": "markdown",
   "id": "c31d2d2d",
   "metadata": {},
   "source": [
    "# Phase 2\n",
    "##### Define Model"
   ]
  },
  {
   "cell_type": "code",
   "execution_count": 2,
   "id": "3699be1f",
   "metadata": {},
   "outputs": [],
   "source": [
    "class RankingModel(tfrs.Model):\n",
    "\n",
    "    def __init__(self, loss):\n",
    "        super().__init__()\n",
    "        embedding_dimension = 32\n",
    "\n",
    "        # User embeddings\n",
    "        self.user_embeddings = tf.keras.Sequential([ # only user ID is used not User features\n",
    "            tf.keras.layers.StringLookup(\n",
    "                vocabulary=unique_user_ids),  # need unique_user_ids\n",
    "            tf.keras.layers.Embedding(\n",
    "                len(unique_user_ids) + 2, embedding_dimension)\n",
    "        ])\n",
    "\n",
    "        # Restaurand embeddings\n",
    "        self.restaurant_embeddings = tf.keras.Sequential([\n",
    "            tf.keras.layers.StringLookup(\n",
    "                vocabulary=unique_restaurants),  # need unique_restaurants\n",
    "            tf.keras.layers.Embedding(\n",
    "                len(unique_restaurants) + 2, embedding_dimension)\n",
    "        ])\n",
    "\n",
    "        # Compute predictions\n",
    "        self.score_model = tf.keras.Sequential([\n",
    "            # Learn multiple dense layers.\n",
    "            tf.keras.layers.Dense(128, activation=\"relu\"),\n",
    "            tf.keras.layers.Dense(64, activation=\"relu\"),\n",
    "            tf.keras.layers.Dense(1)\n",
    "        ])\n",
    "\n",
    "        self.task = tfrs.tasks.Ranking(\n",
    "            loss=loss,\n",
    "            metrics=[\n",
    "                tfr.keras.metrics.NDCGMetric(name=\"ndcg_metric\"),\n",
    "                tf.keras.metrics.RootMeanSquaredError()\n",
    "            ]\n",
    "        )\n",
    "\n",
    "    def call(self, features):  # features Type: Dict{}, Key: UserID, BookID, Value: Tensor\n",
    "        user_embeddings = self.user_embeddings(features[\"UserID\"])\n",
    "        restaurant_embeddings = self.restaurant_embeddings(features[\"BookID\"])\n",
    "\n",
    "        # The embeddings are concatenated\n",
    "        list_length = features[\"BookID\"].shape[1]\n",
    "        user_embedding_repeated = tf.repeat(\n",
    "            tf.expand_dims(user_embeddings, 1), [list_length], axis=1)\n",
    "        concatenated_embeddings = tf.concat(\n",
    "            [user_embedding_repeated, restaurant_embeddings], 2)\n",
    "\n",
    "        return self.score_model(concatenated_embeddings)\n",
    "\n",
    "    def compute_loss(self, features, training=False):\n",
    "        labels = features.pop(\"Rating\")\n",
    "        scores = self(features)\n",
    "        return self.task(\n",
    "            labels=labels,\n",
    "            predictions=tf.squeeze(scores, axis=-1),\n",
    "        )"
   ]
  },
  {
   "cell_type": "markdown",
   "id": "7e95f5d8",
   "metadata": {},
   "source": [
    "# Phase 3\n",
    "#### Train Model"
   ]
  },
  {
   "cell_type": "code",
   "execution_count": 3,
   "id": "a5ad6d67",
   "metadata": {},
   "outputs": [
    {
     "ename": "NameError",
     "evalue": "name 'train' is not defined",
     "output_type": "error",
     "traceback": [
      "\u001b[1;31m---------------------------------------------------------------------------\u001b[0m",
      "\u001b[1;31mNameError\u001b[0m                                 Traceback (most recent call last)",
      "Cell \u001b[1;32mIn[3], line 1\u001b[0m\n\u001b[1;32m----> 1\u001b[0m cached_train \u001b[38;5;241m=\u001b[39m \u001b[43mtrain\u001b[49m\u001b[38;5;241m.\u001b[39mshuffle(buffer_size)\u001b[38;5;241m.\u001b[39mbatch(\u001b[38;5;241m8192\u001b[39m)\u001b[38;5;241m.\u001b[39mcache() \u001b[38;5;66;03m# define buffer_size\u001b[39;00m\n",
      "\u001b[1;31mNameError\u001b[0m: name 'train' is not defined"
     ]
    }
   ],
   "source": [
    "# cached_train = train.shuffle(buffer_size).batch(8192).cache() # define buffer_size"
   ]
  },
  {
   "cell_type": "code",
   "execution_count": null,
   "id": "998963b1",
   "metadata": {},
   "outputs": [],
   "source": [
    "# listwise_model = RankingModel(tfr.keras.losses.ListMLELoss())\n",
    "# listwise_model.compile(optimizer=tf.keras.optimizers.Adagrad(0.1))\n",
    "# listwise_model.fit(cached_train, epochs=5, verbose=True)"
   ]
  }
 ],
 "metadata": {
  "kernelspec": {
   "display_name": "Python 3",
   "language": "python",
   "name": "python3"
  },
  "language_info": {
   "codemirror_mode": {
    "name": "ipython",
    "version": 3
   },
   "file_extension": ".py",
   "mimetype": "text/x-python",
   "name": "python",
   "nbconvert_exporter": "python",
   "pygments_lexer": "ipython3",
   "version": "3.11.4"
  }
 },
 "nbformat": 4,
 "nbformat_minor": 5
}
