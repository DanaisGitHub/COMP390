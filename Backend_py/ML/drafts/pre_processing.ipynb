{
 "cells": [
  {
   "cell_type": "code",
   "execution_count": 1,
   "metadata": {},
   "outputs": [
    {
     "name": "stdout",
     "output_type": "stream",
     "text": [
      "WARNING:tensorflow:From c:\\Python311\\Lib\\site-packages\\keras\\src\\losses.py:2976: The name tf.losses.sparse_softmax_cross_entropy is deprecated. Please use tf.compat.v1.losses.sparse_softmax_cross_entropy instead.\n",
      "\n"
     ]
    },
    {
     "name": "stderr",
     "output_type": "stream",
     "text": [
      "c:\\Python311\\Lib\\site-packages\\tqdm\\auto.py:21: TqdmWarning: IProgress not found. Please update jupyter and ipywidgets. See https://ipywidgets.readthedocs.io/en/stable/user_install.html\n",
      "  from .autonotebook import tqdm as notebook_tqdm\n"
     ]
    },
    {
     "name": "stdout",
     "output_type": "stream",
     "text": [
      "WARNING:tensorflow:From c:\\Python311\\Lib\\site-packages\\tensorflow_estimator\\python\\estimator\\util.py:74: The name tf.train.SessionRunHook is deprecated. Please use tf.estimator.SessionRunHook instead.\n",
      "\n"
     ]
    }
   ],
   "source": [
    "import pprint\n",
    "import numpy as np\n",
    "import tensorflow as tf\n",
    "import tensorflow_datasets as tfds\n",
    "import tensorflow_ranking as tfr\n",
    "import tensorflow_recommenders as tfrs\n",
    "import mysql.connector\n",
    "import pandas as pd\n",
    "from getpass import getpass\n",
    "from mysql.connector import connect, Error"
   ]
  },
  {
   "cell_type": "markdown",
   "metadata": {},
   "source": [
    "# Book Pre-Processing\n",
    "Note: as listwise meaining 5:1 for book and user"
   ]
  },
  {
   "cell_type": "code",
   "execution_count": 2,
   "metadata": {},
   "outputs": [
    {
     "name": "stdout",
     "output_type": "stream",
     "text": [
      "WARNING:tensorflow:From c:\\Python311\\Lib\\site-packages\\keras\\src\\backend.py:873: The name tf.get_default_graph is deprecated. Please use tf.compat.v1.get_default_graph instead.\n",
      "\n"
     ]
    },
    {
     "ename": "NameError",
     "evalue": "name 'book_ids' is not defined",
     "output_type": "error",
     "traceback": [
      "\u001b[1;31m---------------------------------------------------------------------------\u001b[0m",
      "\u001b[1;31mNameError\u001b[0m                                 Traceback (most recent call last)",
      "Cell \u001b[1;32mIn[2], line 5\u001b[0m\n\u001b[0;32m      1\u001b[0m \u001b[38;5;66;03m# for now the book features we are doing are book_id, book_title, num_pages \u001b[39;00m\n\u001b[0;32m      2\u001b[0m \n\u001b[0;32m      3\u001b[0m \u001b[38;5;66;03m#book_id\u001b[39;00m\n\u001b[0;32m      4\u001b[0m book_id_lookup \u001b[38;5;241m=\u001b[39m tf\u001b[38;5;241m.\u001b[39mkeras\u001b[38;5;241m.\u001b[39mlayers\u001b[38;5;241m.\u001b[39mStringLookup()\n\u001b[1;32m----> 5\u001b[0m book_id_lookup\u001b[38;5;241m.\u001b[39madapt(\u001b[43mbook_ids\u001b[49m) \u001b[38;5;66;03m# list of all book ids, the strings\u001b[39;00m\n\u001b[0;32m      7\u001b[0m \u001b[38;5;66;03m# Book title \u001b[39;00m\n\u001b[0;32m      8\u001b[0m book_title_lookup \u001b[38;5;241m=\u001b[39m tf\u001b[38;5;241m.\u001b[39mkeras\u001b[38;5;241m.\u001b[39mlayers\u001b[38;5;241m.\u001b[39mStringLookup()\n",
      "\u001b[1;31mNameError\u001b[0m: name 'book_ids' is not defined"
     ]
    }
   ],
   "source": [
    "# for now the book features we are doing are book_id, book_title, num_pages \n",
    "\n",
    "#book_id\n",
    "book_id_lookup = tf.keras.layers.StringLookup()\n",
    "book_id_lookup.adapt(book_ids) # list of all book ids, the strings\n",
    "\n",
    "# Book title \n",
    "book_title_lookup = tf.keras.layers.StringLookup()\n",
    "book_title_lookup.adapt(book_titles)# should be unique book titles, the strings\n",
    "\n",
    "\n",
    "#num pages # not sure honestly\n",
    "num_pages_lookup = tf.keras.layers.Normalization(axis=None)\n",
    "num_pages_lookup.adapt(book_num_pages.astype(np.float32)) # list of all num pages\n",
    "\n",
    "#rating # think wrong\n",
    "rating_lookup = tf.keras.layers.Normalization(axis=None)\n",
    "rating_lookup.adapt(book_ratings.astype(np.float32)) # list of all ratings # type is double\n"
   ]
  },
  {
   "cell_type": "code",
   "execution_count": null,
   "metadata": {},
   "outputs": [],
   "source": [
    "class BookModel(tf.keras.Model):\n",
    "\n",
    "    def __init__(self):\n",
    "        super().__init__()\n",
    "        \n",
    "        #book_id\n",
    "        self.book_id_embedding = tf.keras.Sequential([\n",
    "            book_id,\n",
    "            tf.keras.layers.Embedding(book_id.vocab_size(), 32)\n",
    "        ])\n",
    "\n",
    "        self.book_title_embedding = tf.keras.Sequential([\n",
    "            book_title_lookup,\n",
    "            tf.keras.layers.Embedding(book_title_lookup.vocab_size(), 32)\n",
    "        ])\n",
    "        \n",
    "        #num pages\n",
    "        self.num_pages_embedding = tf.keras.Sequential([\n",
    "            num_pages\n",
    "        ])\n",
    "        \n",
    "        #rating\n",
    "        self.rating_embedding = tf.keras.Sequential([\n",
    "            rating\n",
    "        ])\n",
    "     \n",
    "    def call(self, inputs):\n",
    "        return tf.concat([\n",
    "            self.book_title_embedding(inputs[\"book_titles\"]),\n",
    "            self.book_description_embeddings(inputs[\"book_descriptions\"]),\n",
    "            self.num_pages_embedding(inputs[\"num_pages\"]),\n",
    "            self.rating_embedding(inputs[\"ratings\"]),\n",
    "            self.book_author_embedding(inputs[\"authors\"]),\n",
    "            self.book_genre_embedding(inputs[\"genres\"])\n",
    "        ], axis=1)"
   ]
  },
  {
   "cell_type": "markdown",
   "metadata": {},
   "source": [
    "# User Pre-Processing"
   ]
  },
  {
   "cell_type": "code",
   "execution_count": null,
   "metadata": {},
   "outputs": [],
   "source": [
    "#  For now features are user_id, sex;\n",
    "# User ID \n",
    "user_id_lookup = tf.keras.layers.StringLookup()\n",
    "user_id_lookup.adapt(user_ids)\n",
    "\n",
    "#  User age # TODO: get all user ages as array\n",
    "user_age_lookup = tf.keras.layers.Normalization(axis=None)\n",
    "user_age_lookup.adapt(np.array([user_age])) "
   ]
  },
  {
   "cell_type": "code",
   "execution_count": null,
   "metadata": {},
   "outputs": [],
   "source": [
    "class UserModel(tf.keras.Model):\n",
    "\n",
    "    # don't these need to be passed in?\n",
    "    def __init__(self):\n",
    "        super().__init__()\n",
    "\n",
    "        # User embedding based on user_id\n",
    "        self.user_id_embedding = tf.keras.Sequential([\n",
    "            user_id_lookup,\n",
    "            tf.keras.layers.Embedding(user_id_lookup.vocabulary_size(), 32),\n",
    "        ])\n",
    "\n",
    "        # Sex as a boolean feature, could be treated directly as an input or embedded\n",
    "        self.user_sex_embedding = tf.keras.layers.Embedding(\n",
    "            2, 32)  # Assuming sex is represented as 0 or 1\n",
    "\n",
    "    def call(self, inputs):\n",
    "        # User feature from user ID\n",
    "        user_id_feature = self.user_id_embedding(inputs[\"user_id\"])\n",
    "\n",
    "        \n",
    "        # Process sex\n",
    "        user_sex_feature = self.user_sex_embedding(tf.cast(inputs[\"sex\"], tf.int32))\n",
    "\n",
    "        # Process preferences\n",
    "        # Concatenate all features\n",
    "        return tf.concat([\n",
    "            user_id_feature,\n",
    "            user_sex_feature,\n",
    "        ], axis=1)"
   ]
  },
  {
   "cell_type": "code",
   "execution_count": null,
   "metadata": {},
   "outputs": [],
   "source": [
    "class RankingModel(tfrs.Model):\n",
    "\n",
    "    def __init__(self, loss):\n",
    "        super().__init__()\n",
    "        embedding_dimension = 32\n",
    "\n",
    "        # User embeddings\n",
    "        self.user_embeddings = UserModel()\n",
    "        # Restaurand embeddings\n",
    "        self.book_embeddings = BookModel()\n",
    "        # Compute predictions\n",
    "        self.score_model = tf.keras.Sequential([\n",
    "            # Learn multiple dense layers.\n",
    "            tf.keras.layers.Dense(128, activation=\"relu\"),\n",
    "            tf.keras.layers.Dense(64, activation=\"relu\"),\n",
    "            tf.keras.layers.Dense(1)\n",
    "        ])\n",
    "\n",
    "        self.task = tfrs.tasks.Ranking(\n",
    "            loss=loss,\n",
    "            metrics=[\n",
    "                tfr.keras.metrics.NDCGMetric(name=\"ndcg_metric\"),\n",
    "                tf.keras.metrics.RootMeanSquaredError()\n",
    "            ]\n",
    "        )\n",
    "\n",
    "    def call(self, features):  # features Type: Dict{}, Key: UserID, BookID, Value: Tensor\n",
    "        user_embeddings = self.user_model({\n",
    "            'user_id': features['user_id'],\n",
    "            'sex': features['user_sex'],  # Adjust field name as necessary\n",
    "        })\n",
    "\n",
    "        # Process book features through the BookModel\n",
    "        # Adjust field names and structure as necessary to match your BookModel's expected input\n",
    "        book_embeddings = self.book_model({\n",
    "            'book_id': features['book_id'],\n",
    "            'book_title': features['book_title'],\n",
    "            'num_pages': features['num_pages'],  # If applicable\n",
    "        })\n",
    "        \n",
    "        user_embeddings_expanded = tf.expand_dims(user_embeddings, 1)\n",
    "    \n",
    "        combined_embeddings = tf.concat([user_embeddings_expanded, book_embeddings], axis=-1)\n",
    "\n",
    "        return self.score_model(combined_embeddings)\n",
    "\n",
    "    def compute_loss(self, features, training=False):\n",
    "        labels = features.pop(\"user_rating\")\n",
    "        scores = self(features)\n",
    "        return self.task(\n",
    "            labels=labels,\n",
    "            predictions=tf.squeeze(scores, axis=-1),\n",
    "        )"
   ]
  },
  {
   "cell_type": "code",
   "execution_count": null,
   "metadata": {},
   "outputs": [],
   "source": [
    "listwise_model = RankingModel(tfr.keras.losses.ListMLELoss())\n",
    "listwise_model.compile(optimizer=tf.keras.optimizers.Adagrad(0.1))\n",
    "listwise_model.fit(cached_train, epochs=100, verbose=True)  "
   ]
  }
 ],
 "metadata": {
  "kernelspec": {
   "display_name": "Python 3",
   "language": "python",
   "name": "python3"
  },
  "language_info": {
   "codemirror_mode": {
    "name": "ipython",
    "version": 3
   },
   "file_extension": ".py",
   "mimetype": "text/x-python",
   "name": "python",
   "nbconvert_exporter": "python",
   "pygments_lexer": "ipython3",
   "version": "3.11.4"
  }
 },
 "nbformat": 4,
 "nbformat_minor": 2
}
