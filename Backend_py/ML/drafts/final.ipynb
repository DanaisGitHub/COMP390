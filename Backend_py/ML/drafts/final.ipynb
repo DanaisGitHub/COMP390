{
 "cells": [
  {
   "cell_type": "code",
   "execution_count": 1,
   "metadata": {},
   "outputs": [
    {
     "name": "stdout",
     "output_type": "stream",
     "text": [
      "WARNING:tensorflow:From c:\\Python311\\Lib\\site-packages\\keras\\src\\losses.py:2976: The name tf.losses.sparse_softmax_cross_entropy is deprecated. Please use tf.compat.v1.losses.sparse_softmax_cross_entropy instead.\n",
      "\n"
     ]
    },
    {
     "name": "stderr",
     "output_type": "stream",
     "text": [
      "c:\\Python311\\Lib\\site-packages\\tqdm\\auto.py:21: TqdmWarning: IProgress not found. Please update jupyter and ipywidgets. See https://ipywidgets.readthedocs.io/en/stable/user_install.html\n",
      "  from .autonotebook import tqdm as notebook_tqdm\n"
     ]
    },
    {
     "name": "stdout",
     "output_type": "stream",
     "text": [
      "WARNING:tensorflow:From c:\\Python311\\Lib\\site-packages\\tensorflow_estimator\\python\\estimator\\util.py:74: The name tf.train.SessionRunHook is deprecated. Please use tf.estimator.SessionRunHook instead.\n",
      "\n",
      "<mysql.connector.connection_cext.CMySQLConnection object at 0x0000016D175574D0>\n"
     ]
    }
   ],
   "source": [
    "import pprint\n",
    "import numpy as np\n",
    "import tensorflow as tf\n",
    "import tensorflow_datasets as tfds\n",
    "import tensorflow_ranking as tfr\n",
    "import tensorflow_recommenders as tfrs\n",
    "import mysql.connector\n",
    "import pandas as pd\n",
    "from getpass import getpass\n",
    "from mysql.connector import connect, Error\n",
    "import collections\n",
    "from typing import Optional, List\n",
    "from tensorflow.keras.models import load_model\n",
    "import matplotlib.pyplot as plt\n",
    "\n",
    "\n",
    "# Connect to database\n",
    "try:\n",
    "    with connect(\n",
    "        host=\"localhost\",\n",
    "        user=\"root\",\n",
    "        password=\"mysql\",\n",
    "        database=\"Sprint1BasicEComDb\"\n",
    "    ) as connection:\n",
    "        print(connection)\n",
    "except Error as e:\n",
    "    print(e)\n",
    "    \n",
    "def save_to_csv(data, filename, header):\n",
    "    df = pd.DataFrame(data).set_axis(header, axis=1)\n",
    "    df.to_csv(filename, index=False, )"
   ]
  },
  {
   "cell_type": "markdown",
   "metadata": {},
   "source": [
    "# Prep-Data"
   ]
  },
  {
   "cell_type": "code",
   "execution_count": 2,
   "metadata": {},
   "outputs": [],
   "source": [
    "def sample_listwise_2(\n",
    "    rating_dataset: tf.data.Dataset,\n",
    "    user_features: List[str],\n",
    "    book_features: List[str],\n",
    "    num_list_per_user: int = 50,\n",
    "    num_examples_per_list: int = 5,\n",
    "    seed: Optional[int] = None\n",
    ") -> tf.data.Dataset:\n",
    "    \"\"\"Convert a dataset to a listwise dataset with user and book features.\"\"\"\n",
    "    random_state = np.random.RandomState(seed)\n",
    "    example_lists_by_user = collections.defaultdict(\n",
    "        lambda: collections.defaultdict(list))\n",
    "\n",
    "    # Collect features for each user\n",
    "    for example in rating_dataset.as_numpy_iterator():\n",
    "        user_id = example[\"user_id\"]\n",
    "        for feature in user_features + book_features + [\"user_rating\"]:\n",
    "            example_lists_by_user[user_id][feature].append(example[feature])\n",
    "\n",
    "    structured_lists = []\n",
    "    # Build structured lists for each user\n",
    "    for user_id, feature_lists in example_lists_by_user.items():\n",
    "        for _ in range(num_list_per_user):\n",
    "            if len(feature_lists[\"book_id\"]) < num_examples_per_list:\n",
    "                continue  # Skip users with fewer books than required for a full list\n",
    "\n",
    "            sampled_indices = random_state.choice(len(feature_lists[\"book_id\"]),\n",
    "                                                  size=num_examples_per_list,\n",
    "                                                  replace=False)\n",
    "\n",
    "            list_entry = {feature: []\n",
    "                          for feature in user_features + book_features + [\"user_rating\"]}\n",
    "            for feature in book_features + [\"user_rating\"]:\n",
    "                for i in sampled_indices:\n",
    "                    list_entry[feature].append(feature_lists[feature][i])\n",
    "\n",
    "            # Add user features (assumed to be the same for all books in the list)\n",
    "            for feature in user_features:\n",
    "                list_entry[feature] = feature_lists[feature][0]\n",
    "\n",
    "            structured_lists.append(list_entry)\n",
    "    def generator():\n",
    "        for entry in structured_lists:\n",
    "            # Convert lists for listwise features to the required fixed length\n",
    "            # Ensure single-value features are correctly formatted\n",
    "            # This assumes `entry` is already structured to match these expectations\n",
    "            yield entry\n",
    "    output_types = {\n",
    "        'book_id': tf.int64,\n",
    "        'book_title': tf.string,\n",
    "        'user_rating': tf.float32,\n",
    "        'user_id': tf.int64,\n",
    "        'sex': tf.int64  # Assuming 'sex' is an example of a single-value user feature\n",
    "    }\n",
    "    output_shapes = {\n",
    "        'book_id': (num_examples_per_list,),\n",
    "        'book_title': (num_examples_per_list,),\n",
    "        'user_rating': (num_examples_per_list,),\n",
    "        'user_id': (),\n",
    "        'sex': ()  # Ensure shapes are specified for all features\n",
    "    }\n",
    "    # Create the dataset with known types and shapes\n",
    "    return tf.data.Dataset.from_generator(generator, output_types=output_types, output_shapes=output_shapes)\n",
    "\n",
    "# Output looks like:\n",
    "# userA:{\n",
    "    # book_id: [1, 2, 3, 4, 5],\n",
    "    # book_title: ['Book1', 'Book2', 'Book3', 'Book4', 'Book5'],\n",
    "    # user_rating: [5, 4, 3, 2, 1],\n",
    "#}"
   ]
  },
  {
   "cell_type": "code",
   "execution_count": 3,
   "metadata": {},
   "outputs": [
    {
     "name": "stdout",
     "output_type": "stream",
     "text": [
      "\n"
     ]
    }
   ],
   "source": [
    "def get_all_books_user_and_ratings():  # TODO: like get All Books, add attributes to the query\n",
    "    query = \"\"\"SELECT \n",
    "    u.id AS userid,   -- User ID\n",
    "    u.sex,            -- User sex\n",
    "    b.id AS bookid,   -- Book ID\n",
    "    b.book,           -- Book title or name\n",
    "    ubr.rating AS user_rating  -- User's rating of the book\n",
    "    FROM userbookratings ubr\n",
    "    JOIN users u ON ubr.userid = u.id\n",
    "    JOIN bookitems b ON ubr.bookid = b.id; \"\"\"\n",
    "    # incase connection is lost, reconnect\n",
    "    connection.reconnect(attempts=3, delay=5)\n",
    "    mydb = connection.cursor()\n",
    "    mydb.execute(query)\n",
    "    user_ratings = mydb.fetchall()\n",
    "    return user_ratings\n",
    "\n",
    "\n",
    "print()\n",
    "save_to_csv(get_all_books_user_and_ratings(), '../User_book_Ratings.csv',\n",
    "            ['user_id', 'sex', 'book_id', 'book_title', 'user_rating'])\n",
    "\n",
    "rating_rank = pd.read_csv('../User_book_Ratings.csv')\n",
    "rating_rank = rating_rank.dropna()"
   ]
  },
  {
   "cell_type": "code",
   "execution_count": 4,
   "metadata": {},
   "outputs": [
    {
     "name": "stdout",
     "output_type": "stream",
     "text": [
      "800000\n"
     ]
    }
   ],
   "source": [
    "# all the ones I want to use\n",
    "user_features = ['userid', 'birthdate', 'sex',\n",
    "                 'genrePreference', 'authorPreference']\n",
    "book_features = ['book_id', 'book_title', 'description',\n",
    "                 'num_page', 'pre_rating', 'publication', 'authorids', 'genreids']\n",
    "# the ones I'm ac\n",
    "user_features = ['user_id', 'sex']\n",
    "book_features = ['book_id', 'book_title']\n",
    "\n",
    "\n",
    "\n",
    "# convert dataframe to tf.data.Dataset\n",
    "rating_rank = tf.data.Dataset.from_tensor_slices(dict(rating_rank))# LINE CAN ONLY BE USED 1NCE\n",
    "\n",
    "# TODO: Add more features to the dataset\n",
    "rating_rank = rating_rank.map(lambda x: {\n",
    "    \"user_id\": x[\"user_id\"],\n",
    "    \"sex\": x['sex'],\n",
    "    \"book_id\": x['book_id'],\n",
    "    \"book_title\": x['book_title'],\n",
    "    \"user_rating\": x[\"user_rating\"],\n",
    "    }\n",
    ")\n",
    "\n",
    "book_ids = rating_rank.batch(1_000_000).map(lambda x: x[\"book_id\"])\n",
    "unique_book_ids = np.unique(np.concatenate(list(book_ids)))\n",
    "\n",
    "book_titles = rating_rank.batch(1_000_000).map(lambda x: x[\"book_title\"])\n",
    "unique_book_titles = np.unique(np.concatenate(list(book_titles)))\n",
    "\n",
    "user_ids = rating_rank.batch(1_000_000).map(lambda x: x[\"user_id\"])\n",
    "unique_user_ids = np.unique(np.concatenate(list(user_ids)))\n",
    "\n",
    "tf.random.set_seed(42)\n",
    "print(len(rating_rank))\n",
    "shuffled = rating_rank.shuffle(800000, seed=42, reshuffle_each_iteration=False)\n",
    "train = shuffled.take(640000)\n",
    "test = shuffled.skip(640000).take(160000)\n",
    "\n",
    "train = sample_listwise_2(train, user_features, book_features,\n",
    "                              num_list_per_user=50, num_examples_per_list=5, seed=42)\n",
    "\n",
    "test = sample_listwise_2(test, user_features, book_features,\n",
    "                             num_list_per_user=1, num_examples_per_list=5, seed=42)\n",
    "\n",
    "cached_train = train.shuffle(640000).batch(32, drop_remainder=True).cache()\n",
    "\n",
    "cached_test = test.batch(32).cache()\n",
    "\n"
   ]
  },
  {
   "cell_type": "markdown",
   "metadata": {},
   "source": [
    "# Pre-Process Data"
   ]
  },
  {
   "cell_type": "code",
   "execution_count": 5,
   "metadata": {},
   "outputs": [
    {
     "name": "stdout",
     "output_type": "stream",
     "text": [
      "WARNING:tensorflow:From c:\\Python311\\Lib\\site-packages\\keras\\src\\backend.py:873: The name tf.get_default_graph is deprecated. Please use tf.compat.v1.get_default_graph instead.\n",
      "\n",
      "WARNING:tensorflow:From c:\\Python311\\Lib\\site-packages\\keras\\src\\utils\\tf_utils.py:492: The name tf.ragged.RaggedTensorValue is deprecated. Please use tf.compat.v1.ragged.RaggedTensorValue instead.\n",
      "\n"
     ]
    }
   ],
   "source": [
    "\n",
    "#book_id\n",
    "book_id_lookup = tf.keras.layers.IntegerLookup()\n",
    "book_id_lookup.adapt(unique_book_ids) \n",
    "\n",
    "# Book title \n",
    "book_title_lookup = tf.keras.layers.StringLookup()\n",
    "book_title_lookup.adapt(unique_book_titles)\n",
    "\n",
    "\n"
   ]
  },
  {
   "cell_type": "code",
   "execution_count": 6,
   "metadata": {},
   "outputs": [],
   "source": [
    "class BookModel(tf.keras.Model):\n",
    "\n",
    "    def __init__(self):\n",
    "        super().__init__()\n",
    "\n",
    "        self.book_id_embedding = tf.keras.Sequential([\n",
    "            tf.keras.layers.IntegerLookup(\n",
    "                vocabulary=unique_book_ids, mask_token=None),\n",
    "            tf.keras.layers.Embedding(len(unique_book_ids) + 1, 32)\n",
    "        ])\n",
    "\n",
    "        self.book_title_embedding = tf.keras.Sequential([\n",
    "            tf.keras.layers.StringLookup(\n",
    "                vocabulary=unique_book_titles, mask_token=None),\n",
    "            tf.keras.layers.Embedding(len(unique_book_titles) + 1, 32)\n",
    "        ])\n",
    "\n",
    "    def call(self, inputs):\n",
    "        print(\"Model input keys:\", list(inputs.keys()))\n",
    "        for key, value in inputs.items():\n",
    "            print(f\"Shape of {key}:\", value.shape)\n",
    "        return tf.concat([\n",
    "            self.book_id_embedding(inputs[\"book_id\"]),\n",
    "            self.book_title_embedding(inputs[\"book_title\"]),\n",
    "            # self.num_pages_embedding(inputs[\"num_pages\"]),\n",
    "        ], axis=-1)\n",
    "\n",
    "    def get_config(self):\n",
    "        config = super(BookModel, self).get_config()\n",
    "        config.update({\n",
    "            \"unique_book_ids\": self.book_id_embedding.layers[0].get_vocabulary(),\n",
    "            \"unique_book_titles\": self.book_title_embedding.layers[0].get_vocabulary()\n",
    "        })\n",
    "        return config\n",
    "\n",
    "    @classmethod\n",
    "    def from_config(cls, config):\n",
    "        return cls(**config)"
   ]
  },
  {
   "cell_type": "code",
   "execution_count": 7,
   "metadata": {},
   "outputs": [],
   "source": [
    "\n",
    "user_id_lookup = tf.keras.layers.IntegerLookup()\n",
    "user_id_lookup.adapt(unique_user_ids)\n"
   ]
  },
  {
   "cell_type": "code",
   "execution_count": 8,
   "metadata": {},
   "outputs": [],
   "source": [
    "class UserModel(tf.keras.Model):\n",
    "\n",
    "    def __init__(self):\n",
    "        super().__init__()\n",
    "\n",
    "        self.user_id_embedding = tf.keras.Sequential([\n",
    "            user_id_lookup,\n",
    "            tf.keras.layers.Embedding(user_id_lookup.vocabulary_size(), 32),\n",
    "        ])\n",
    "        \n",
    "        # Assuming sex is represented as 0 or 1\n",
    "        self.sex_embedding = tf.keras.layers.Embedding(\n",
    "            2, 32)  \n",
    "\n",
    "    def call(self, inputs):\n",
    "        print(\"Model input keys:\", list(inputs.keys()))\n",
    "        for key, value in inputs.items():\n",
    "            print(f\"Shape of {key}:\", value.shape)\n",
    "\n",
    "        user_id_feature = self.user_id_embedding(inputs[\"user_id\"])\n",
    "        sex_feature = self.sex_embedding(\n",
    "            tf.cast(inputs[\"sex\"], tf.int32))  # Corrected attribute name\n",
    "\n",
    "        return tf.concat([\n",
    "            user_id_feature,\n",
    "            sex_feature,\n",
    "        ], axis=1)\n",
    "\n",
    "    def get_config(self):\n",
    "        config = super(UserModel, self).get_config()\n",
    "        config.update({\n",
    "            \"user_ids_vocabulary\": self.user_id_embedding.layers[0].get_vocabulary(),\n",
    "            \"sex_embedding_dim\": self.sex_embedding.output_dim\n",
    "        })\n",
    "        return config\n",
    "\n",
    "    @classmethod\n",
    "    def from_config(cls, config):\n",
    "        return cls(**config)"
   ]
  },
  {
   "cell_type": "markdown",
   "metadata": {},
   "source": [
    "# Ranking Model"
   ]
  },
  {
   "cell_type": "code",
   "execution_count": 9,
   "metadata": {},
   "outputs": [],
   "source": [
    "class RankingModel(tfrs.Model):\n",
    "\n",
    "    def __init__(self, loss):\n",
    "        super().__init__()\n",
    "        embedding_dimension = 32\n",
    "\n",
    "        # User embeddings\n",
    "        self.user_embeddings = tf.keras.Sequential([\n",
    "            UserModel()\n",
    "            ])\n",
    "        # Restaurand embeddings\n",
    "        self.book_embeddings = tf.keras.Sequential([\n",
    "            BookModel(),\n",
    "            \n",
    "        ])\n",
    "        # Compute predictions\n",
    "        self.score_model = tf.keras.Sequential([\n",
    "            # Learn multiple dense layers.\n",
    "            tf.keras.layers.Dense(128, activation=\"relu\"),\n",
    "            tf.keras.layers.Dense(64, activation=\"relu\"),\n",
    "            tf.keras.layers.Dense(1, activation=\"sigmoid\"),  # Sigmoid activation to ensure output is between 0 and 1\n",
    "            tf.keras.layers.Lambda(lambda x: x * 5)  # Scale up by 5 to adjust the range to 0-5\n",
    "\n",
    "        ])\n",
    "\n",
    "        self.task = tfrs.tasks.Ranking(\n",
    "            loss=loss,\n",
    "            metrics=[\n",
    "                tfr.keras.metrics.NDCGMetric(name=\"ndcg_metric\"),\n",
    "                tf.keras.metrics.RootMeanSquaredError()\n",
    "            ]\n",
    "        )\n",
    "\n",
    "    def call(self, features):\n",
    "        # Extract user embeddings [batch_size, embedding_dim].\n",
    "        user_embeddings = self.user_embeddings({\n",
    "            'user_id': features['user_id'],\n",
    "            'sex': features['sex'],\n",
    "        })\n",
    "\n",
    "        # Extract book embeddings [batch_size, num_books, embedding_dim].\n",
    "        book_embeddings = self.book_embeddings({\n",
    "            'book_id': features['book_id'],\n",
    "            'book_title': features['book_title'],\n",
    "            # Potentially include other book features here\n",
    "        })\n",
    "\n",
    "        \n",
    "        list_length = features['book_id'].shape[1]\n",
    "\n",
    "        user_embedding_repeated = tf.repeat(\n",
    "            tf.expand_dims(user_embeddings, 1), [list_length], axis=1)\n",
    "\n",
    "        print(\"User Embedding Repeated Shape:\", user_embedding_repeated.shape)\n",
    "        print(\"Book Embeddings Shape:\", book_embeddings.shape)\n",
    "\n",
    "        # Concatenate user and book embeddings along the last dimension.\n",
    "        combined_embeddings = tf.concat(\n",
    "            [user_embedding_repeated, book_embeddings], axis=2)\n",
    "\n",
    "        combined_embeddings_flat = tf.reshape(combined_embeddings, [tf.shape(combined_embeddings)[0] * list_length, -1])\n",
    "\n",
    "        # Passing the flattened embeddings to the scoring model.\n",
    "        scores_flat = self.score_model(combined_embeddings_flat)\n",
    "\n",
    "        # Reshaping scores to match the labels shape (10, 5)\n",
    "        scores = tf.reshape(scores_flat, [tf.shape(features['book_id'])[0], list_length])\n",
    "        return scores\n",
    "\n",
    "    def compute_loss(self, features, training=False):\n",
    "        labels = features.pop(\"user_rating\")\n",
    "        scores = self(features)\n",
    "        return self.task(\n",
    "            labels=labels,\n",
    "            predictions=scores,\n",
    "        )"
   ]
  },
  {
   "cell_type": "markdown",
   "metadata": {},
   "source": [
    "# Train Model"
   ]
  },
  {
   "cell_type": "code",
   "execution_count": 28,
   "metadata": {},
   "outputs": [
    {
     "name": "stdout",
     "output_type": "stream",
     "text": [
      "Model input keys: ['user_id', 'sex']\n",
      "Shape of user_id: (32,)\n",
      "Shape of sex: (32,)\n",
      "Model input keys: ['book_id', 'book_title']\n",
      "Shape of book_id: (32, 5)\n",
      "Shape of book_title: (32, 5)\n",
      "User Embedding Repeated Shape: (32, 5, 64)\n",
      "Book Embeddings Shape: (32, 5, 64)\n",
      "Model input keys: ['user_id', 'sex']\n",
      "Shape of user_id: (32,)\n",
      "Shape of sex: (32,)\n",
      "Model input keys: ['book_id', 'book_title']\n",
      "Shape of book_id: (32, 5)\n",
      "Shape of book_title: (32, 5)\n",
      "User Embedding Repeated Shape: (32, 5, 64)\n",
      "Book Embeddings Shape: (32, 5, 64)\n"
     ]
    },
    {
     "data": {
      "image/png": "[encoded data removed]",
      "text/plain": [
       "<Figure size 640x480 with 1 Axes>"
      ]
     },
     "metadata": {},
     "output_type": "display_data"
    }
   ],
   "source": [
    "listwise_model = RankingModel(tfr.keras.losses.ListMLELoss())\n",
    "listwise_model.compile(optimizer=tf.keras.optimizers.Adagrad(0.1))\n",
    "\n",
    "listwise_model.fit(cached_train, epochs=400, verbose=False)\n",
    "# plt.plot(history.history['loss'])\n",
    "# plt.title('Model loss')\n",
    "# plt.ylabel('Loss')\n",
    "# plt.xlabel('Epoch')\n",
    "# plt.legend(['Train', 'Test'], loc='upper left')\n",
    "# plt.show()"
   ]
  },
  {
   "cell_type": "code",
   "execution_count": 29,
   "metadata": {},
   "outputs": [
    {
     "name": "stdout",
     "output_type": "stream",
     "text": [
      "Model input keys: ['user_id', 'sex']\n",
      "Shape of user_id: (None,)\n",
      "Shape of sex: (None,)\n",
      "Model input keys: ['book_id', 'book_title']\n",
      "Shape of book_id: (None, 5)\n",
      "Shape of book_title: (None, 5)\n",
      "User Embedding Repeated Shape: (None, 5, 64)\n",
      "Book Embeddings Shape: (None, 5, 64)\n",
      "13/13 [==============================] - 1s 11ms/step - ndcg_metric: 0.8523 - root_mean_squared_error: 3.0414 - loss: 8.1389 - regularization_loss: 0.0000e+00 - total_loss: 8.1389\n"
     ]
    },
    {
     "data": {
      "text/plain": [
       "{'ndcg_metric': 0.8522751331329346,\n",
       " 'root_mean_squared_error': 3.041419506072998,\n",
       " 'loss': 7.370899200439453,\n",
       " 'regularization_loss': 0,\n",
       " 'total_loss': 7.370899200439453}"
      ]
     },
     "execution_count": 29,
     "metadata": {},
     "output_type": "execute_result"
    }
   ],
   "source": [
    "#test\n",
    "listwise_model.evaluate(cached_test, return_dict=True)"
   ]
  },
  {
   "cell_type": "code",
   "execution_count": 30,
   "metadata": {},
   "outputs": [
    {
     "name": "stdout",
     "output_type": "stream",
     "text": [
      "Model input keys: ['user_id', 'sex']\n",
      "Shape of user_id: (None,)\n",
      "Shape of sex: (None,)\n",
      "Model input keys: ['book_id', 'book_title']\n",
      "Shape of book_id: (None, 5)\n",
      "Shape of book_title: (None, 5)\n",
      "User Embedding Repeated Shape: (None, 5, 64)\n",
      "Book Embeddings Shape: (None, 5, 64)\n",
      "Model input keys: ['user_id', 'sex']\n",
      "Shape of user_id: (None,)\n",
      "Shape of sex: (None,)\n",
      "Model input keys: ['user_id', 'sex']\n",
      "Shape of user_id: (None,)\n",
      "Shape of sex: (None,)\n",
      "Model input keys: ['book_id', 'book_title']\n",
      "Shape of book_id: (None, 5)\n",
      "Shape of book_title: (None, 5)\n",
      "Model input keys: ['book_id', 'book_title']\n",
      "Shape of book_id: (None, 5)\n",
      "Shape of book_title: (None, 5)\n",
      "User Embedding Repeated Shape: (None, 5, 64)\n",
      "Book Embeddings Shape: (None, 5, 64)\n",
      "User Embedding Repeated Shape: (None, 5, 64)\n",
      "Book Embeddings Shape: (None, 5, 64)\n",
      "WARNING:tensorflow:Model's `__init__()` arguments contain non-serializable objects. Please implement a `get_config()` method in the subclassed Model for proper saving and loading. Defaulting to empty config.\n"
     ]
    },
    {
     "name": "stderr",
     "output_type": "stream",
     "text": [
      "WARNING:tensorflow:Model's `__init__()` arguments contain non-serializable objects. Please implement a `get_config()` method in the subclassed Model for proper saving and loading. Defaulting to empty config.\n"
     ]
    },
    {
     "name": "stdout",
     "output_type": "stream",
     "text": [
      "WARNING:tensorflow:Model's `__init__()` arguments contain non-serializable objects. Please implement a `get_config()` method in the subclassed Model for proper saving and loading. Defaulting to empty config.\n"
     ]
    },
    {
     "name": "stderr",
     "output_type": "stream",
     "text": [
      "WARNING:tensorflow:Model's `__init__()` arguments contain non-serializable objects. Please implement a `get_config()` method in the subclassed Model for proper saving and loading. Defaulting to empty config.\n"
     ]
    },
    {
     "name": "stdout",
     "output_type": "stream",
     "text": [
      "INFO:tensorflow:Assets written to: ../../RESTful API/listwise_model\\assets\n"
     ]
    },
    {
     "name": "stderr",
     "output_type": "stream",
     "text": [
      "INFO:tensorflow:Assets written to: ../../RESTful API/listwise_model\\assets\n"
     ]
    },
    {
     "name": "stdout",
     "output_type": "stream",
     "text": [
      "WARNING:tensorflow:Model's `__init__()` arguments contain non-serializable objects. Please implement a `get_config()` method in the subclassed Model for proper saving and loading. Defaulting to empty config.\n"
     ]
    },
    {
     "name": "stderr",
     "output_type": "stream",
     "text": [
      "WARNING:tensorflow:Model's `__init__()` arguments contain non-serializable objects. Please implement a `get_config()` method in the subclassed Model for proper saving and loading. Defaulting to empty config.\n"
     ]
    },
    {
     "name": "stdout",
     "output_type": "stream",
     "text": [
      "WARNING:tensorflow:Model's `__init__()` arguments contain non-serializable objects. Please implement a `get_config()` method in the subclassed Model for proper saving and loading. Defaulting to empty config.\n"
     ]
    },
    {
     "name": "stderr",
     "output_type": "stream",
     "text": [
      "WARNING:tensorflow:Model's `__init__()` arguments contain non-serializable objects. Please implement a `get_config()` method in the subclassed Model for proper saving and loading. Defaulting to empty config.\n"
     ]
    }
   ],
   "source": [
    "listwise_model.save(\"../../RESTful API/listwise_model\", save_format='tf')"
   ]
  },
  {
   "cell_type": "code",
   "execution_count": 31,
   "metadata": {},
   "outputs": [
    {
     "data": {
      "text/plain": [
       "(<tf.Tensor: shape=(1, 5), dtype=float32, numpy=\n",
       " array([[2.8021364, 2.6535563, 3.0276036, 2.7775326, 2.9007573]],\n",
       "       dtype=float32)>,)"
      ]
     },
     "execution_count": 31,
     "metadata": {},
     "output_type": "execute_result"
    }
   ],
   "source": [
    "\n",
    "loaded_model = load_model('export', custom_objects={\n",
    "    'UserModel': UserModel,\n",
    "    'BookModel': BookModel,\n",
    "    'RankingModel': RankingModel,\n",
    "    'NDCGMetric': tfr.keras.metrics.NDCGMetric\n",
    "})\n",
    "\n",
    "\n",
    "loaded_model({\n",
    "    \"user_id\": tf.constant([1], dtype=tf.int64),  # Ensure dtype is tf.int64\n",
    "    # Ensure dtype is tf.int64 # Ensure dtype is tf.int64\n",
    "    \"sex\": tf.constant([0], dtype=tf.int64),\n",
    "    \"book_id\": tf.constant([[101, 102, 103, 104, 105]], dtype=tf.int64),\n",
    "    \"book_title\": tf.constant([\n",
    "        [\"the lord god made them all\",\n",
    "         \"noble house\",\n",
    "         \"scary stories to tell in the dark\",\n",
    "         \"god emperor of dune\",\n",
    "         \"st peters fair\"\n",
    "         ]])\n",
    "}, training=False),"
   ]
  }
 ],
 "metadata": {
  "kernelspec": {
   "display_name": "Python 3",
   "language": "python",
   "name": "python3"
  },
  "language_info": {
   "codemirror_mode": {
    "name": "ipython",
    "version": 3
   },
   "file_extension": ".py",
   "mimetype": "text/x-python",
   "name": "python",
   "nbconvert_exporter": "python",
   "pygments_lexer": "ipython3",
   "version": "3.11.4"
  }
 },
 "nbformat": 4,
 "nbformat_minor": 2
}
