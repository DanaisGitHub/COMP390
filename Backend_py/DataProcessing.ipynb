{
 "cells": [
  {
   "cell_type": "code",
   "execution_count": 3,
   "id": "34776dca-4c96-4082-a742-faad74613618",
   "metadata": {},
   "outputs": [],
   "source": [
    "import pandas as pd\n",
    "import numpy as np\n",
    "bookSourcePath ='Datasource/Original_Books.csv' \n",
    "df = pd.read_csv(bookSourcePath, index_col=0)\n",
    "nonNullCols = ['book','author','description', 'numPages','format','genres','publication','rating']\n",
    "nonSpecialChars = ['book']\n",
    "\n"
   ]
  },
  {
   "cell_type": "code",
   "execution_count": 4,
   "id": "ea398e3d-3304-40fd-bdde-2a849b9b25a7",
   "metadata": {},
   "outputs": [],
   "source": [
    "# Clean strings to remove special Characters\n",
    "for col in nonSpecialChars:\n",
    "    df[col] = df[col].str.replace(r'\\W',\"\") ## Don't think it's working still \n"
   ]
  },
  {
   "cell_type": "code",
   "execution_count": 5,
   "id": "34dfc1af-4ab5-42e8-a6dd-b326aeed2a14",
   "metadata": {},
   "outputs": [],
   "source": [
    "# Cleaning All Null/empty values (That are nessarry to have)\n",
    "for col in nonNullCols:\n",
    "    df.dropna(subset = col, inplace=True)\n"
   ]
  },
  {
   "cell_type": "code",
   "execution_count": 6,
   "id": "dc90e936-b785-4db3-8493-4250529600c3",
   "metadata": {},
   "outputs": [
    {
     "ename": "KeyError",
     "evalue": "'Rating'",
     "output_type": "error",
     "traceback": [
      "\u001b[1;31m---------------------------------------------------------------------------\u001b[0m",
      "\u001b[1;31mKeyError\u001b[0m                                  Traceback (most recent call last)",
      "File \u001b[1;32m~\\anaconda3\\Lib\\site-packages\\pandas\\core\\indexes\\base.py:3790\u001b[0m, in \u001b[0;36mIndex.get_loc\u001b[1;34m(self, key)\u001b[0m\n\u001b[0;32m   3789\u001b[0m \u001b[38;5;28;01mtry\u001b[39;00m:\n\u001b[1;32m-> 3790\u001b[0m     \u001b[38;5;28;01mreturn\u001b[39;00m \u001b[38;5;28;43mself\u001b[39;49m\u001b[38;5;241;43m.\u001b[39;49m\u001b[43m_engine\u001b[49m\u001b[38;5;241;43m.\u001b[39;49m\u001b[43mget_loc\u001b[49m\u001b[43m(\u001b[49m\u001b[43mcasted_key\u001b[49m\u001b[43m)\u001b[49m\n\u001b[0;32m   3791\u001b[0m \u001b[38;5;28;01mexcept\u001b[39;00m \u001b[38;5;167;01mKeyError\u001b[39;00m \u001b[38;5;28;01mas\u001b[39;00m err:\n",
      "File \u001b[1;32mindex.pyx:152\u001b[0m, in \u001b[0;36mpandas._libs.index.IndexEngine.get_loc\u001b[1;34m()\u001b[0m\n",
      "File \u001b[1;32mindex.pyx:181\u001b[0m, in \u001b[0;36mpandas._libs.index.IndexEngine.get_loc\u001b[1;34m()\u001b[0m\n",
      "File \u001b[1;32mpandas\\_libs\\hashtable_class_helper.pxi:7080\u001b[0m, in \u001b[0;36mpandas._libs.hashtable.PyObjectHashTable.get_item\u001b[1;34m()\u001b[0m\n",
      "File \u001b[1;32mpandas\\_libs\\hashtable_class_helper.pxi:7088\u001b[0m, in \u001b[0;36mpandas._libs.hashtable.PyObjectHashTable.get_item\u001b[1;34m()\u001b[0m\n",
      "\u001b[1;31mKeyError\u001b[0m: 'Rating'",
      "\nThe above exception was the direct cause of the following exception:\n",
      "\u001b[1;31mKeyError\u001b[0m                                  Traceback (most recent call last)",
      "Cell \u001b[1;32mIn[6], line 2\u001b[0m\n\u001b[0;32m      1\u001b[0m \u001b[38;5;66;03m# cleaning All rating that are NaN\u001b[39;00m\n\u001b[1;32m----> 2\u001b[0m df\u001b[38;5;241m=\u001b[39mdf[\u001b[43mdf\u001b[49m\u001b[43m[\u001b[49m\u001b[38;5;124;43m'\u001b[39;49m\u001b[38;5;124;43mRating\u001b[39;49m\u001b[38;5;124;43m'\u001b[39;49m\u001b[43m]\u001b[49m \u001b[38;5;241m!=\u001b[39m \u001b[38;5;124m'\u001b[39m\u001b[38;5;124mreal\u001b[39m\u001b[38;5;124m'\u001b[39m] \u001b[38;5;66;03m# Got rid of too much\u001b[39;00m\n",
      "File \u001b[1;32m~\\anaconda3\\Lib\\site-packages\\pandas\\core\\frame.py:3896\u001b[0m, in \u001b[0;36mDataFrame.__getitem__\u001b[1;34m(self, key)\u001b[0m\n\u001b[0;32m   3894\u001b[0m \u001b[38;5;28;01mif\u001b[39;00m \u001b[38;5;28mself\u001b[39m\u001b[38;5;241m.\u001b[39mcolumns\u001b[38;5;241m.\u001b[39mnlevels \u001b[38;5;241m>\u001b[39m \u001b[38;5;241m1\u001b[39m:\n\u001b[0;32m   3895\u001b[0m     \u001b[38;5;28;01mreturn\u001b[39;00m \u001b[38;5;28mself\u001b[39m\u001b[38;5;241m.\u001b[39m_getitem_multilevel(key)\n\u001b[1;32m-> 3896\u001b[0m indexer \u001b[38;5;241m=\u001b[39m \u001b[38;5;28;43mself\u001b[39;49m\u001b[38;5;241;43m.\u001b[39;49m\u001b[43mcolumns\u001b[49m\u001b[38;5;241;43m.\u001b[39;49m\u001b[43mget_loc\u001b[49m\u001b[43m(\u001b[49m\u001b[43mkey\u001b[49m\u001b[43m)\u001b[49m\n\u001b[0;32m   3897\u001b[0m \u001b[38;5;28;01mif\u001b[39;00m is_integer(indexer):\n\u001b[0;32m   3898\u001b[0m     indexer \u001b[38;5;241m=\u001b[39m [indexer]\n",
      "File \u001b[1;32m~\\anaconda3\\Lib\\site-packages\\pandas\\core\\indexes\\base.py:3797\u001b[0m, in \u001b[0;36mIndex.get_loc\u001b[1;34m(self, key)\u001b[0m\n\u001b[0;32m   3792\u001b[0m     \u001b[38;5;28;01mif\u001b[39;00m \u001b[38;5;28misinstance\u001b[39m(casted_key, \u001b[38;5;28mslice\u001b[39m) \u001b[38;5;129;01mor\u001b[39;00m (\n\u001b[0;32m   3793\u001b[0m         \u001b[38;5;28misinstance\u001b[39m(casted_key, abc\u001b[38;5;241m.\u001b[39mIterable)\n\u001b[0;32m   3794\u001b[0m         \u001b[38;5;129;01mand\u001b[39;00m \u001b[38;5;28many\u001b[39m(\u001b[38;5;28misinstance\u001b[39m(x, \u001b[38;5;28mslice\u001b[39m) \u001b[38;5;28;01mfor\u001b[39;00m x \u001b[38;5;129;01min\u001b[39;00m casted_key)\n\u001b[0;32m   3795\u001b[0m     ):\n\u001b[0;32m   3796\u001b[0m         \u001b[38;5;28;01mraise\u001b[39;00m InvalidIndexError(key)\n\u001b[1;32m-> 3797\u001b[0m     \u001b[38;5;28;01mraise\u001b[39;00m \u001b[38;5;167;01mKeyError\u001b[39;00m(key) \u001b[38;5;28;01mfrom\u001b[39;00m \u001b[38;5;21;01merr\u001b[39;00m\n\u001b[0;32m   3798\u001b[0m \u001b[38;5;28;01mexcept\u001b[39;00m \u001b[38;5;167;01mTypeError\u001b[39;00m:\n\u001b[0;32m   3799\u001b[0m     \u001b[38;5;66;03m# If we have a listlike key, _check_indexing_error will raise\u001b[39;00m\n\u001b[0;32m   3800\u001b[0m     \u001b[38;5;66;03m#  InvalidIndexError. Otherwise we fall through and re-raise\u001b[39;00m\n\u001b[0;32m   3801\u001b[0m     \u001b[38;5;66;03m#  the TypeError.\u001b[39;00m\n\u001b[0;32m   3802\u001b[0m     \u001b[38;5;28mself\u001b[39m\u001b[38;5;241m.\u001b[39m_check_indexing_error(key)\n",
      "\u001b[1;31mKeyError\u001b[0m: 'Rating'"
     ]
    }
   ],
   "source": [
    "# cleaning All rating that are NaN\n",
    "df=df[df['Rating'] != 'real'] # Got rid of too much"
   ]
  },
  {
   "cell_type": "code",
   "execution_count": 7,
   "id": "df4240c4-fdfd-4fae-af51-d51c9c904cb6",
   "metadata": {},
   "outputs": [
    {
     "name": "stdout",
     "output_type": "stream",
     "text": [
      "                         book                         series releaseNumber  \\\n",
      "1        The Name of the Rose                            NaN           NaN   \n",
      "2   The Clan of the Cave Bear               Earth's Children             1   \n",
      "3                 Firestarter                            NaN           NaN   \n",
      "4                      Cosmos                            NaN           NaN   \n",
      "5         The Bourne Identity                   Jason Bourne             1   \n",
      "6     A Confederacy of Dunces                            NaN           NaN   \n",
      "7                       Congo                            NaN           NaN   \n",
      "8         One Corpse Too Many  Chronicles of Brother Cadfael             2   \n",
      "9  The Indian in the Cupboard     The Indian in the Cupboard             1   \n",
      "\n",
      "               author                                        description  \\\n",
      "1         Umberto Eco  The year is 1327. Benedictines in a wealthy It...   \n",
      "2        Jean M. Auel  This novel of awesome beauty and power is a mo...   \n",
      "3        Stephen King  The Department of Scientific Intelligence (aka...   \n",
      "4          Carl Sagan  The story of fifteen billion years of cosmic e...   \n",
      "5       Robert Ludlum  Who is Jason Bourne? Is he an assassin, a terr...   \n",
      "6  John Kennedy Toole  Here is Ignatius Reilly: slob extraordinary, a...   \n",
      "7    Michael Crichton  Deep in the African rain forest, near the lege...   \n",
      "8        Ellis Peters  In the summer of 1138, war between King Stephe...   \n",
      "9    Lynne Reid Banks  At first, Omri is unimpressed with the plastic...   \n",
      "\n",
      "   numPages                 format  \\\n",
      "1     536.0              Paperback   \n",
      "2     512.0              Paperback   \n",
      "3     564.0  Mass Market Paperback   \n",
      "4     384.0  Mass Market Paperback   \n",
      "5     566.0              Paperback   \n",
      "6     394.0              Paperback   \n",
      "7     480.0  Mass Market Paperback   \n",
      "8     214.0  Mass Market Paperback   \n",
      "9     192.0              Paperback   \n",
      "\n",
      "                                              genres         publication  \\\n",
      "1  ['Fiction', 'Historical Fiction', 'Mystery', '...     January 1, 1980   \n",
      "2  ['Historical Fiction', 'Fiction', 'Fantasy', '...     January 1, 1980   \n",
      "3  ['Horror', 'Fiction', 'Thriller', 'Science Fic...  September 29, 1980   \n",
      "4  ['Science', 'Nonfiction', 'Physics', 'Astronom...     January 1, 1980   \n",
      "5  ['Fiction', 'Thriller', 'Mystery', 'Suspense',...    February 4, 1980   \n",
      "6  ['Fiction', 'Humor', 'Literature', 'Comedy', '...         May 1, 1980   \n",
      "7  ['Fiction', 'Science Fiction', 'Thriller', 'Ad...     January 1, 1980   \n",
      "8  ['Mystery', 'Historical Fiction', 'Fiction', '...        June 1, 1979   \n",
      "9  ['Fantasy', 'Childrens', 'Fiction', 'Young Adu...     January 1, 1980   \n",
      "\n",
      "  rating  numberOfVoters  \n",
      "1   4.14          360732  \n",
      "2   4.09          264630  \n",
      "3   3.91          226270  \n",
      "4   4.39          144686  \n",
      "5   4.05          431083  \n",
      "6   3.89          272471  \n",
      "7   3.62          170347  \n",
      "8   4.08           16138  \n",
      "9   3.93          105145  \n"
     ]
    }
   ],
   "source": [
    "# adding id\n",
    "df = df[1:10]\n",
    "print(df)"
   ]
  },
  {
   "cell_type": "code",
   "execution_count": 8,
   "id": "5484e0a6-68d8-412a-8352-26fb6092fbfd",
   "metadata": {},
   "outputs": [],
   "source": [
    "df.to_csv(\"Datasource/first10s.csv\")"
   ]
  },
  {
   "cell_type": "code",
   "execution_count": null,
   "id": "3da88df7-1149-4060-835a-66943f76a7e4",
   "metadata": {},
   "outputs": [],
   "source": []
  }
 ],
 "metadata": {
  "kernelspec": {
   "display_name": "Python 3 (ipykernel)",
   "language": "python",
   "name": "python3"
  },
  "language_info": {
   "codemirror_mode": {
    "name": "ipython",
    "version": 3
   },
   "file_extension": ".py",
   "mimetype": "text/x-python",
   "name": "python",
   "nbconvert_exporter": "python",
   "pygments_lexer": "ipython3",
   "version": "3.11.5"
  }
 },
 "nbformat": 4,
 "nbformat_minor": 5
}
