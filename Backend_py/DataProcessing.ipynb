{
 "cells": [
  {
   "cell_type": "markdown",
   "id": "00c52b9d",
   "metadata": {},
   "source": [
    "# Purpose :\n",
    "1. Partially clean the data for the books dataset (However the data is also cleaned in Node conversion and securtiy reasons) \n",
    "2. Add any nessary datapoints to the books dataset\n",
    "3. Create Training Data from MySQL database\n"
   ]
  },
  {
   "cell_type": "code",
   "execution_count": 35,
   "id": "34776dca-4c96-4082-a742-faad74613618",
   "metadata": {},
   "outputs": [],
   "source": [
    "# The purpose of this script is to partially clean the data for the books dataset (However the data is also cleaned in Node conversion and securtiy reasons) )\n",
    "\n",
    "\n",
    "import pandas as pd\n",
    "import numpy as np\n",
    "bookSourcePath ='Datasource/Original_Books.csv' \n",
    "df = pd.read_csv(bookSourcePath, index_col=0)\n",
    "nonNullCols = ['book','author','description', 'numPages','format','genres','publication','rating']\n",
    "nonSpecialChars = ['book']\n",
    "\n"
   ]
  },
  {
   "cell_type": "code",
   "execution_count": 36,
   "id": "ea398e3d-3304-40fd-bdde-2a849b9b25a7",
   "metadata": {},
   "outputs": [],
   "source": [
    "# Clean strings to remove special Characters\n",
    "for col in nonSpecialChars:\n",
    "    df[col] = df[col].str.replace(r'\\W',\"\") ## Don't think it's working still \n"
   ]
  },
  {
   "cell_type": "code",
   "execution_count": 37,
   "id": "34dfc1af-4ab5-42e8-a6dd-b326aeed2a14",
   "metadata": {},
   "outputs": [],
   "source": [
    "# Cleaning All Null/empty values (That are nessarry to have)\n",
    "for col in nonNullCols:\n",
    "    df.dropna(subset = col, inplace=True)\n"
   ]
  },
  {
   "cell_type": "code",
   "execution_count": 38,
   "id": "dc90e936-b785-4db3-8493-4250529600c3",
   "metadata": {},
   "outputs": [],
   "source": [
    "# cleaning All rating that are NaN\n",
    "df=df[df['rating'] != 'real'] # Got rid of too much"
   ]
  },
  {
   "cell_type": "code",
   "execution_count": 39,
   "id": "df4240c4-fdfd-4fae-af51-d51c9c904cb6",
   "metadata": {},
   "outputs": [
    {
     "name": "stdout",
     "output_type": "stream",
     "text": [
      "                              book            series releaseNumber  \\\n",
      "1             The Name of the Rose               NaN           NaN   \n",
      "2        The Clan of the Cave Bear  Earth's Children             1   \n",
      "3                      Firestarter               NaN           NaN   \n",
      "4                           Cosmos               NaN           NaN   \n",
      "5              The Bourne Identity      Jason Bourne             1   \n",
      "..                             ...               ...           ...   \n",
      "103                     Red Dragon   Hannibal Lecter             1   \n",
      "104            Midnight's Children               NaN           NaN   \n",
      "105            Ramona Quimby Age 8            Ramona             6   \n",
      "106           A Light in the Attic               NaN           NaN   \n",
      "107  Chronicle of a Death Foretold               NaN           NaN   \n",
      "\n",
      "                     author  \\\n",
      "1               Umberto Eco   \n",
      "2              Jean M. Auel   \n",
      "3              Stephen King   \n",
      "4                Carl Sagan   \n",
      "5             Robert Ludlum   \n",
      "..                      ...   \n",
      "103          Thomas  Harris   \n",
      "104          Salman Rushdie   \n",
      "105          Beverly Cleary   \n",
      "106        Shel Silverstein   \n",
      "107  Gabriel García Márquez   \n",
      "\n",
      "                                           description  numPages  \\\n",
      "1    The year is 1327. Benedictines in a wealthy It...     536.0   \n",
      "2    This novel of awesome beauty and power is a mo...     512.0   \n",
      "3    The Department of Scientific Intelligence (aka...     564.0   \n",
      "4    The story of fifteen billion years of cosmic e...     384.0   \n",
      "5    Who is Jason Bourne? Is he an assassin, a terr...     566.0   \n",
      "..                                                 ...       ...   \n",
      "103  A second family has been massacred by the terr...     454.0   \n",
      "104  Saleem Sinai is born at the stroke of midnight...     647.0   \n",
      "105  Now that Ramona is eight-years-old, she's doin...     190.0   \n",
      "106  Last night while I lay thinking here \\nSome Wh...     176.0   \n",
      "107  A man returns to the town where a baffling mur...     120.0   \n",
      "\n",
      "                    format                                             genres  \\\n",
      "1                Paperback  ['Fiction', 'Historical Fiction', 'Mystery', '...   \n",
      "2                Paperback  ['Historical Fiction', 'Fiction', 'Fantasy', '...   \n",
      "3    Mass Market Paperback  ['Horror', 'Fiction', 'Thriller', 'Science Fic...   \n",
      "4    Mass Market Paperback  ['Science', 'Nonfiction', 'Physics', 'Astronom...   \n",
      "5                Paperback  ['Fiction', 'Thriller', 'Mystery', 'Suspense',...   \n",
      "..                     ...                                                ...   \n",
      "103              Hardcover  ['Horror', 'Fiction', 'Thriller', 'Crime', 'My...   \n",
      "104              Paperback  ['Fiction', 'Magical Realism', 'Classics', 'In...   \n",
      "105              Paperback  ['Childrens', 'Fiction', 'Middle Grade', 'Real...   \n",
      "106              Hardcover  ['Poetry', 'Childrens', 'Classics', 'Fiction',...   \n",
      "107              Paperback  ['Fiction', 'Classics', 'Magical Realism', 'Sc...   \n",
      "\n",
      "            publication rating  numberOfVoters  \n",
      "1       January 1, 1980   4.14          360732  \n",
      "2       January 1, 1980   4.09          264630  \n",
      "3    September 29, 1980   3.91          226270  \n",
      "4       January 1, 1980   4.39          144686  \n",
      "5      February 4, 1980   4.05          431083  \n",
      "..                  ...    ...             ...  \n",
      "103     October 1, 1981   4.06          328824  \n",
      "104      March 12, 1981   3.98          122382  \n",
      "105     January 1, 1981    4.1           71767  \n",
      "106     October 7, 1981   4.35          441639  \n",
      "107     January 1, 1981   3.97          187932  \n",
      "\n",
      "[99 rows x 11 columns]\n"
     ]
    }
   ],
   "source": [
    "# adding id\n",
    "df = df[1:100]\n",
    "print(df)"
   ]
  },
  {
   "cell_type": "code",
   "execution_count": 40,
   "id": "5484e0a6-68d8-412a-8352-26fb6092fbfd",
   "metadata": {},
   "outputs": [],
   "source": [
    "df.to_csv(\"Datasource/first10s.csv\")"
   ]
  }
 ],
 "metadata": {
  "kernelspec": {
   "display_name": "Python 3 (ipykernel)",
   "language": "python",
   "name": "python3"
  },
  "language_info": {
   "codemirror_mode": {
    "name": "ipython",
    "version": 3
   },
   "file_extension": ".py",
   "mimetype": "text/x-python",
   "name": "python",
   "nbconvert_exporter": "python",
   "pygments_lexer": "ipython3",
   "version": "3.11.5"
  }
 },
 "nbformat": 4,
 "nbformat_minor": 5
}
