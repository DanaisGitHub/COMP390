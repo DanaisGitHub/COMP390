{
 "cells": [
  {
   "cell_type": "code",
   "execution_count": 1,
   "id": "34776dca-4c96-4082-a742-faad74613618",
   "metadata": {},
   "outputs": [],
   "source": [
    "import pandas as pd\n",
    "import numpy as np\n",
    "bookSourcePath ='Datasource/Original_Books.csv' \n",
    "df = pd.read_csv(bookSourcePath, index_col=0)\n",
    "nonNullCols = ['book','author','description', 'numPages','format','genres','publication','rating']\n",
    "nonSpecialChars = ['book']\n",
    "\n"
   ]
  },
  {
   "cell_type": "code",
   "execution_count": 2,
   "id": "ea398e3d-3304-40fd-bdde-2a849b9b25a7",
   "metadata": {},
   "outputs": [
    {
     "ename": "KeyError",
     "evalue": "'Book'",
     "output_type": "error",
     "traceback": [
      "\u001b[1;31m---------------------------------------------------------------------------\u001b[0m",
      "\u001b[1;31mKeyError\u001b[0m                                  Traceback (most recent call last)",
      "File \u001b[1;32m~\\anaconda3\\Lib\\site-packages\\pandas\\core\\indexes\\base.py:3790\u001b[0m, in \u001b[0;36mIndex.get_loc\u001b[1;34m(self, key)\u001b[0m\n\u001b[0;32m   3789\u001b[0m \u001b[38;5;28;01mtry\u001b[39;00m:\n\u001b[1;32m-> 3790\u001b[0m     \u001b[38;5;28;01mreturn\u001b[39;00m \u001b[38;5;28;43mself\u001b[39;49m\u001b[38;5;241;43m.\u001b[39;49m\u001b[43m_engine\u001b[49m\u001b[38;5;241;43m.\u001b[39;49m\u001b[43mget_loc\u001b[49m\u001b[43m(\u001b[49m\u001b[43mcasted_key\u001b[49m\u001b[43m)\u001b[49m\n\u001b[0;32m   3791\u001b[0m \u001b[38;5;28;01mexcept\u001b[39;00m \u001b[38;5;167;01mKeyError\u001b[39;00m \u001b[38;5;28;01mas\u001b[39;00m err:\n",
      "File \u001b[1;32mindex.pyx:152\u001b[0m, in \u001b[0;36mpandas._libs.index.IndexEngine.get_loc\u001b[1;34m()\u001b[0m\n",
      "File \u001b[1;32mindex.pyx:181\u001b[0m, in \u001b[0;36mpandas._libs.index.IndexEngine.get_loc\u001b[1;34m()\u001b[0m\n",
      "File \u001b[1;32mpandas\\_libs\\hashtable_class_helper.pxi:7080\u001b[0m, in \u001b[0;36mpandas._libs.hashtable.PyObjectHashTable.get_item\u001b[1;34m()\u001b[0m\n",
      "File \u001b[1;32mpandas\\_libs\\hashtable_class_helper.pxi:7088\u001b[0m, in \u001b[0;36mpandas._libs.hashtable.PyObjectHashTable.get_item\u001b[1;34m()\u001b[0m\n",
      "\u001b[1;31mKeyError\u001b[0m: 'Book'",
      "\nThe above exception was the direct cause of the following exception:\n",
      "\u001b[1;31mKeyError\u001b[0m                                  Traceback (most recent call last)",
      "Cell \u001b[1;32mIn[2], line 3\u001b[0m\n\u001b[0;32m      1\u001b[0m \u001b[38;5;66;03m# Clean strings to remove special Characters\u001b[39;00m\n\u001b[0;32m      2\u001b[0m \u001b[38;5;28;01mfor\u001b[39;00m col \u001b[38;5;129;01min\u001b[39;00m nonSpecialChars:\n\u001b[1;32m----> 3\u001b[0m     df[col] \u001b[38;5;241m=\u001b[39m \u001b[43mdf\u001b[49m\u001b[43m[\u001b[49m\u001b[43mcol\u001b[49m\u001b[43m]\u001b[49m\u001b[38;5;241m.\u001b[39mstr\u001b[38;5;241m.\u001b[39mreplace(\u001b[38;5;124mr\u001b[39m\u001b[38;5;124m'\u001b[39m\u001b[38;5;124m\\\u001b[39m\u001b[38;5;124mW\u001b[39m\u001b[38;5;124m'\u001b[39m,\u001b[38;5;124m\"\u001b[39m\u001b[38;5;124m\"\u001b[39m) \u001b[38;5;66;03m## Don't think it's working still \u001b[39;00m\n",
      "File \u001b[1;32m~\\anaconda3\\Lib\\site-packages\\pandas\\core\\frame.py:3896\u001b[0m, in \u001b[0;36mDataFrame.__getitem__\u001b[1;34m(self, key)\u001b[0m\n\u001b[0;32m   3894\u001b[0m \u001b[38;5;28;01mif\u001b[39;00m \u001b[38;5;28mself\u001b[39m\u001b[38;5;241m.\u001b[39mcolumns\u001b[38;5;241m.\u001b[39mnlevels \u001b[38;5;241m>\u001b[39m \u001b[38;5;241m1\u001b[39m:\n\u001b[0;32m   3895\u001b[0m     \u001b[38;5;28;01mreturn\u001b[39;00m \u001b[38;5;28mself\u001b[39m\u001b[38;5;241m.\u001b[39m_getitem_multilevel(key)\n\u001b[1;32m-> 3896\u001b[0m indexer \u001b[38;5;241m=\u001b[39m \u001b[38;5;28;43mself\u001b[39;49m\u001b[38;5;241;43m.\u001b[39;49m\u001b[43mcolumns\u001b[49m\u001b[38;5;241;43m.\u001b[39;49m\u001b[43mget_loc\u001b[49m\u001b[43m(\u001b[49m\u001b[43mkey\u001b[49m\u001b[43m)\u001b[49m\n\u001b[0;32m   3897\u001b[0m \u001b[38;5;28;01mif\u001b[39;00m is_integer(indexer):\n\u001b[0;32m   3898\u001b[0m     indexer \u001b[38;5;241m=\u001b[39m [indexer]\n",
      "File \u001b[1;32m~\\anaconda3\\Lib\\site-packages\\pandas\\core\\indexes\\base.py:3797\u001b[0m, in \u001b[0;36mIndex.get_loc\u001b[1;34m(self, key)\u001b[0m\n\u001b[0;32m   3792\u001b[0m     \u001b[38;5;28;01mif\u001b[39;00m \u001b[38;5;28misinstance\u001b[39m(casted_key, \u001b[38;5;28mslice\u001b[39m) \u001b[38;5;129;01mor\u001b[39;00m (\n\u001b[0;32m   3793\u001b[0m         \u001b[38;5;28misinstance\u001b[39m(casted_key, abc\u001b[38;5;241m.\u001b[39mIterable)\n\u001b[0;32m   3794\u001b[0m         \u001b[38;5;129;01mand\u001b[39;00m \u001b[38;5;28many\u001b[39m(\u001b[38;5;28misinstance\u001b[39m(x, \u001b[38;5;28mslice\u001b[39m) \u001b[38;5;28;01mfor\u001b[39;00m x \u001b[38;5;129;01min\u001b[39;00m casted_key)\n\u001b[0;32m   3795\u001b[0m     ):\n\u001b[0;32m   3796\u001b[0m         \u001b[38;5;28;01mraise\u001b[39;00m InvalidIndexError(key)\n\u001b[1;32m-> 3797\u001b[0m     \u001b[38;5;28;01mraise\u001b[39;00m \u001b[38;5;167;01mKeyError\u001b[39;00m(key) \u001b[38;5;28;01mfrom\u001b[39;00m \u001b[38;5;21;01merr\u001b[39;00m\n\u001b[0;32m   3798\u001b[0m \u001b[38;5;28;01mexcept\u001b[39;00m \u001b[38;5;167;01mTypeError\u001b[39;00m:\n\u001b[0;32m   3799\u001b[0m     \u001b[38;5;66;03m# If we have a listlike key, _check_indexing_error will raise\u001b[39;00m\n\u001b[0;32m   3800\u001b[0m     \u001b[38;5;66;03m#  InvalidIndexError. Otherwise we fall through and re-raise\u001b[39;00m\n\u001b[0;32m   3801\u001b[0m     \u001b[38;5;66;03m#  the TypeError.\u001b[39;00m\n\u001b[0;32m   3802\u001b[0m     \u001b[38;5;28mself\u001b[39m\u001b[38;5;241m.\u001b[39m_check_indexing_error(key)\n",
      "\u001b[1;31mKeyError\u001b[0m: 'Book'"
     ]
    }
   ],
   "source": [
    "# Clean strings to remove special Characters\n",
    "for col in nonSpecialChars:\n",
    "    df[col] = df[col].str.replace(r'\\W',\"\") ## Don't think it's working still \n"
   ]
  },
  {
   "cell_type": "code",
   "execution_count": null,
   "id": "34dfc1af-4ab5-42e8-a6dd-b326aeed2a14",
   "metadata": {},
   "outputs": [],
   "source": [
    "# Cleaning All Null/empty values (That are nessarry to have)\n",
    "for col in nonNullCols:\n",
    "    df.dropna(subset = col, inplace=True)\n"
   ]
  },
  {
   "cell_type": "code",
   "execution_count": null,
   "id": "dc90e936-b785-4db3-8493-4250529600c3",
   "metadata": {},
   "outputs": [],
   "source": [
    "# cleaning All rating that are NaN\n",
    "df=df[df['Rating'] != 'real'] # Got rid of too much"
   ]
  },
  {
   "cell_type": "code",
   "execution_count": 205,
   "id": "df4240c4-fdfd-4fae-af51-d51c9c904cb6",
   "metadata": {},
   "outputs": [
    {
     "name": "stdout",
     "output_type": "stream",
     "text": [
      "                                           Book  \\\n",
      "0     The Restaurant at the End of the Universe   \n",
      "1                          The Name of the Rose   \n",
      "2                     The Clan of the Cave Bear   \n",
      "3                                   Firestarter   \n",
      "4                                        Cosmos   \n",
      "...                                         ...   \n",
      "4208                                        NaN   \n",
      "4209                                        NaN   \n",
      "4210                                        NaN   \n",
      "4211                                        NaN   \n",
      "4212                                        NaN   \n",
      "\n",
      "                                    Series Release number         Author  \\\n",
      "0     The Hitchhiker's Guide to the Galaxy              2  Douglas Adams   \n",
      "1                                      NaN            NaN    Umberto Eco   \n",
      "2                         Earth's Children              1   Jean M. Auel   \n",
      "3                             Jason Bourne              3   Stephen King   \n",
      "4            Chronicles of Brother Cadfael              4     Carl Sagan   \n",
      "...                                    ...            ...            ...   \n",
      "4208                                   NaN            NaN            NaN   \n",
      "4209                                   NaN            NaN            NaN   \n",
      "4210                                   NaN            NaN            NaN   \n",
      "4211                                   NaN            NaN            NaN   \n",
      "4212                                   NaN            NaN            NaN   \n",
      "\n",
      "                                            Description  Num Pages  \\\n",
      "0     Facing annihilation at the hands of the warlik...      250.0   \n",
      "1     The year is 1327. Benedictines in a wealthy It...      536.0   \n",
      "2     This novel of awesome beauty and power is a mo...      512.0   \n",
      "3     The Department of Scientific Intelligence (aka...      564.0   \n",
      "4     The story of fifteen billion years of cosmic e...      384.0   \n",
      "...                                                 ...        ...   \n",
      "4208  In the vibrant city-state of Castellane, the r...        NaN   \n",
      "4209  A stunning and magisterial new epic of love, f...        NaN   \n",
      "4210  The Pulitzer Prize–winning, bestselling author...        NaN   \n",
      "4211  Author and single mom Finlay Donovan has been ...        NaN   \n",
      "4212  A devilish thriller with a killer concept: The...        NaN   \n",
      "\n",
      "                     Format  \\\n",
      "0                 Paperback   \n",
      "1     Mass Market Paperback   \n",
      "2                 Hardcover   \n",
      "3           Library Binding   \n",
      "4            Kindle Edition   \n",
      "...                     ...   \n",
      "4208                    NaN   \n",
      "4209                    NaN   \n",
      "4210                    NaN   \n",
      "4211                    NaN   \n",
      "4212                    NaN   \n",
      "\n",
      "                                                 Genres    Publication Date  \\\n",
      "0     ['Science Fiction', 'Fiction', 'Humor', 'Fanta...    October 12, 1980   \n",
      "1     ['Fiction', 'Historical Fiction', 'Mystery', '...     January 1, 1980   \n",
      "2     ['Historical Fiction', 'Fiction', 'Fantasy', '...  September 29, 1980   \n",
      "3     ['Horror', 'Fiction', 'Thriller', 'Science Fic...    February 4, 1980   \n",
      "4     ['Science', 'Nonfiction', 'Physics', 'Astronom...         May 1, 1980   \n",
      "...                                                 ...                 ...   \n",
      "4208                                                NaN                 NaN   \n",
      "4209                                                NaN                 NaN   \n",
      "4210                                                NaN                 NaN   \n",
      "4211                                                NaN                 NaN   \n",
      "4212                                                NaN                 NaN   \n",
      "\n",
      "     Rating  Number of voters  \n",
      "0      4.21          283375.0  \n",
      "1      4.14          360732.0  \n",
      "2      4.09          264630.0  \n",
      "3      3.91          226270.0  \n",
      "4      4.39          144686.0  \n",
      "...     ...               ...  \n",
      "4208    NaN               NaN  \n",
      "4209    NaN               NaN  \n",
      "4210    NaN               NaN  \n",
      "4211    NaN               NaN  \n",
      "4212    NaN               NaN  \n",
      "\n",
      "[4213 rows x 11 columns]\n"
     ]
    }
   ],
   "source": [
    "# adding id\n",
    "df = df[1:10]\n",
    "print(df)"
   ]
  },
  {
   "cell_type": "code",
   "execution_count": 206,
   "id": "5484e0a6-68d8-412a-8352-26fb6092fbfd",
   "metadata": {},
   "outputs": [],
   "source": [
    "df.to_csv(\"Datasource/removed_specialChars.csv\")"
   ]
  },
  {
   "cell_type": "code",
   "execution_count": null,
   "id": "3da88df7-1149-4060-835a-66943f76a7e4",
   "metadata": {},
   "outputs": [],
   "source": []
  }
 ],
 "metadata": {
  "kernelspec": {
   "display_name": "Python 3 (ipykernel)",
   "language": "python",
   "name": "python3"
  },
  "language_info": {
   "codemirror_mode": {
    "name": "ipython",
    "version": 3
   },
   "file_extension": ".py",
   "mimetype": "text/x-python",
   "name": "python",
   "nbconvert_exporter": "python",
   "pygments_lexer": "ipython3",
   "version": "3.11.5"
  }
 },
 "nbformat": 4,
 "nbformat_minor": 5
}
